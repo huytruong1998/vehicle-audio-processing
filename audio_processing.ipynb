{
 "cells": [
  {
   "cell_type": "code",
   "execution_count": null,
   "id": "d2e56511",
   "metadata": {},
   "outputs": [],
   "source": [
    "# Import the libraries\n",
    "import numpy as np\n",
    "import matplotlib.pyplot as plt\n",
    "from scipy.fftpack import fft, fftfreq\n",
    "import sounddevice as sd"
   ]
  },
  {
   "cell_type": "markdown",
   "id": "30da90fe-fff0-488c-bad6-f46d5aec22db",
   "metadata": {},
   "source": [
    "### Create a matrix for audio"
   ]
  },
  {
   "cell_type": "code",
   "execution_count": null,
   "id": "7471e1f2",
   "metadata": {},
   "outputs": [],
   "source": []
  },
  {
   "cell_type": "markdown",
   "id": "823e8099",
   "metadata": {},
   "source": [
    "### Extract feature"
   ]
  },
  {
   "cell_type": "code",
   "execution_count": null,
   "id": "2c0ee829",
   "metadata": {},
   "outputs": [],
   "source": []
  },
  {
   "cell_type": "markdown",
   "id": "05badb60-4de2-4352-be6f-46043aa92c76",
   "metadata": {},
   "source": [
    "### Plot spectrograms some file and compare them"
   ]
  },
  {
   "cell_type": "code",
   "execution_count": null,
   "id": "cd340651-a67b-4004-975d-e5c42b80008c",
   "metadata": {},
   "outputs": [],
   "source": []
  },
  {
   "cell_type": "markdown",
   "id": "261606bc-d1cc-4c6f-bc84-1770ef417558",
   "metadata": {},
   "source": [
    "### Plot MFCC some file and compare them"
   ]
  },
  {
   "cell_type": "code",
   "execution_count": null,
   "id": "eb295f7a-7a44-437b-8cb9-98d6ed335a86",
   "metadata": {},
   "outputs": [],
   "source": []
  },
  {
   "cell_type": "markdown",
   "id": "3bcf06a7-361e-41f6-81ef-f13ff72bfa51",
   "metadata": {},
   "source": [
    "### Implement the classifier"
   ]
  },
  {
   "cell_type": "code",
   "execution_count": null,
   "id": "da48473e-66eb-4fa7-ad92-80cdf70e919f",
   "metadata": {},
   "outputs": [],
   "source": []
  },
  {
   "cell_type": "markdown",
   "id": "805a2f1e-bd41-4b16-9e2b-c551899bdaee",
   "metadata": {},
   "source": [
    "### Train the mode"
   ]
  },
  {
   "cell_type": "code",
   "execution_count": null,
   "id": "babc6983-759e-489e-adff-6180b6d257cb",
   "metadata": {},
   "outputs": [],
   "source": []
  },
  {
   "cell_type": "markdown",
   "id": "38c9a4fd-cb22-45ad-8040-aa9187da256b",
   "metadata": {},
   "source": [
    "### Calculate results and analyze them"
   ]
  },
  {
   "cell_type": "code",
   "execution_count": null,
   "id": "6b247ffb-b7eb-4d55-a9c1-d283bbcd7c1b",
   "metadata": {},
   "outputs": [],
   "source": []
  }
 ],
 "metadata": {
  "kernelspec": {
   "display_name": "Python 3 (ipykernel)",
   "language": "python",
   "name": "python3"
  },
  "language_info": {
   "codemirror_mode": {
    "name": "ipython",
    "version": 3
   },
   "file_extension": ".py",
   "mimetype": "text/x-python",
   "name": "python",
   "nbconvert_exporter": "python",
   "pygments_lexer": "ipython3",
   "version": "3.9.18"
  }
 },
 "nbformat": 4,
 "nbformat_minor": 5
}
